{
 "cells": [
  {
   "cell_type": "code",
   "execution_count": 2,
   "id": "61d815bf-76d8-4436-a7f3-fe5969e62e22",
   "metadata": {},
   "outputs": [],
   "source": [
    "from sklearn.datasets import load_iris\n",
    "from sklearn.ensemble import RandomForestClassifier\n",
    "from sklearn.linear_model import LogisticRegression\n",
    "from sklearn.svm import SVC\n",
    "import numpy as np"
   ]
  },
  {
   "cell_type": "code",
   "execution_count": 4,
   "id": "08161ac8-af38-4fb5-b910-52d959033279",
   "metadata": {},
   "outputs": [
    {
     "data": {
      "text/plain": [
       "['DESCR',\n",
       " 'data',\n",
       " 'data_module',\n",
       " 'feature_names',\n",
       " 'filename',\n",
       " 'frame',\n",
       " 'target',\n",
       " 'target_names']"
      ]
     },
     "execution_count": 4,
     "metadata": {},
     "output_type": "execute_result"
    }
   ],
   "source": [
    "flowers = load_iris()\n",
    "dir(flowers)"
   ]
  },
  {
   "cell_type": "code",
   "execution_count": 5,
   "id": "5172d8ef-9a48-444e-8864-f970226fee06",
   "metadata": {},
   "outputs": [],
   "source": [
    "def get_score(model, X_train, X_test, y_train, y_test):\n",
    "    model.fit(X_train, y_train)\n",
    "    return model.score(X_test, y_test)\n",
    "    "
   ]
  },
  {
   "cell_type": "code",
   "execution_count": 29,
   "id": "f9dcf924-d3d5-4220-a0db-54d24b1630a2",
   "metadata": {},
   "outputs": [],
   "source": [
    "lr = []\n",
    "rf = []\n",
    "svms = []"
   ]
  },
  {
   "cell_type": "code",
   "execution_count": 30,
   "id": "b95cdb66-657e-4a4c-aedb-af15c731dd4f",
   "metadata": {},
   "outputs": [],
   "source": [
    "from sklearn.model_selection import StratifiedKFold\n",
    "cv = StratifiedKFold(n_splits=3)\n",
    "for train_index, test_index in cv.split(flowers.data, flowers.target):\n",
    "    X_train, X_test, y_train, y_test = flowers.data[train_index], flowers.data[test_index], \\\n",
    "                                        flowers.target[train_index], flowers.target[test_index]\n",
    "    lr.append(get_score(LogisticRegression(max_iter=1000), X_train, X_test, y_train, y_test))\n",
    "    rf.append(get_score(RandomForestClassifier(n_estimators=50), X_train, X_test, y_train, y_test))\n",
    "    svms.append(get_score(SVC(), X_train, X_test, y_train, y_test))"
   ]
  },
  {
   "cell_type": "code",
   "execution_count": 36,
   "id": "c7e63904-f034-4d60-8558-8976a7f275ac",
   "metadata": {},
   "outputs": [
    {
     "name": "stdout",
     "output_type": "stream",
     "text": [
      "0.9733333333333333\n",
      "0.9533333333333333\n",
      "0.96\n"
     ]
    }
   ],
   "source": [
    "print(sum(lr) / len(lr))\n",
    "print(sum(rf) / len(rf))\n",
    "print(sum(svms) / len(svms))"
   ]
  },
  {
   "cell_type": "code",
   "execution_count": 37,
   "id": "335ac06a-45ce-4316-98e0-5d38eaed95d4",
   "metadata": {},
   "outputs": [],
   "source": [
    "from sklearn.model_selection import cross_val_score"
   ]
  },
  {
   "cell_type": "code",
   "execution_count": 49,
   "id": "14d722f4-da78-4bfe-96a7-aa738b8e874a",
   "metadata": {},
   "outputs": [
    {
     "name": "stdout",
     "output_type": "stream",
     "text": [
      "[0.98 0.96 0.98]\n",
      "[0.98 0.94 0.94]\n",
      "[1.   0.94 0.96]\n"
     ]
    }
   ],
   "source": [
    "print(cross_val_score(LogisticRegression(max_iter=1000), flowers.data, flowers.target, cv=3))\n",
    "print(cross_val_score(RandomForestClassifier(n_estimators=30), flowers.data, flowers.target, cv=3))\n",
    "print(cross_val_score(SVC(C=1000), flowers.data, flowers.target, cv=3))"
   ]
  },
  {
   "cell_type": "code",
   "execution_count": null,
   "id": "1343ad9b-7e50-4d2e-b98c-25d5f7eed460",
   "metadata": {},
   "outputs": [],
   "source": []
  }
 ],
 "metadata": {
  "kernelspec": {
   "display_name": "Python 3 (ipykernel)",
   "language": "python",
   "name": "python3"
  },
  "language_info": {
   "codemirror_mode": {
    "name": "ipython",
    "version": 3
   },
   "file_extension": ".py",
   "mimetype": "text/x-python",
   "name": "python",
   "nbconvert_exporter": "python",
   "pygments_lexer": "ipython3",
   "version": "3.11.9"
  }
 },
 "nbformat": 4,
 "nbformat_minor": 5
}
